{
 "cells": [
  {
   "cell_type": "code",
   "execution_count": null,
   "metadata": {},
   "outputs": [],
   "source": [
    "# While Loop"
   ]
  },
  {
   "cell_type": "code",
   "execution_count": 1,
   "metadata": {},
   "outputs": [
    {
     "name": "stdout",
     "output_type": "stream",
     "text": [
      "currently x's value =  0\n",
      "x is still less than  10, adding 1 to x\n",
      "currently x's value =  1\n",
      "x is still less than  10, adding 1 to x\n",
      "currently x's value =  2\n",
      "x is still less than  10, adding 1 to x\n",
      "currently x's value =  3\n",
      "x is still less than  10, adding 1 to x\n",
      "currently x's value =  4\n",
      "x is still less than  10, adding 1 to x\n",
      "currently x's value =  5\n",
      "x is still less than  10, adding 1 to x\n",
      "currently x's value =  6\n",
      "x is still less than  10, adding 1 to x\n",
      "currently x's value =  7\n",
      "x is still less than  10, adding 1 to x\n",
      "currently x's value =  8\n",
      "x is still less than  10, adding 1 to x\n",
      "currently x's value =  9\n",
      "x is still less than  10, adding 1 to x\n"
     ]
    }
   ],
   "source": [
    "x = 0\n",
    "while x < 10:\n",
    "    print(\"currently x's value = \",x)\n",
    "    print(\"x is still less than  10, adding 1 to x\")\n",
    "    x+=1"
   ]
  },
  {
   "cell_type": "code",
   "execution_count": 2,
   "metadata": {},
   "outputs": [
    {
     "name": "stdout",
     "output_type": "stream",
     "text": [
      "currently x's value =  0\n",
      "x is still less than 10, adding 1 to x\n",
      "currently x's value =  1\n",
      "x is still less than 10, adding 1 to x\n",
      "currently x's value =  2\n",
      "x is still less than 10, adding 1 to x\n",
      "currently x's value =  3\n",
      "x is still less than 10, adding 1 to x\n",
      "currently x's value =  4\n",
      "x is still less than 10, adding 1 to x\n",
      "currently x's value =  5\n",
      "x is still less than 10, adding 1 to x\n",
      "currently x's value =  6\n",
      "x is still less than 10, adding 1 to x\n",
      "currently x's value =  7\n",
      "x is still less than 10, adding 1 to x\n",
      "currently x's value =  8\n",
      "x is still less than 10, adding 1 to x\n",
      "currently x's value =  9\n",
      "x is still less than 10, adding 1 to x\n"
     ]
    }
   ],
   "source": [
    "x = 0\n",
    "while x < 10:\n",
    "    print(\"currently x's value = \",x)\n",
    "    print(\"x is still less than 10, adding 1 to x\")\n",
    "    x+=1"
   ]
  },
  {
   "cell_type": "code",
   "execution_count": 3,
   "metadata": {},
   "outputs": [
    {
     "name": "stdout",
     "output_type": "stream",
     "text": [
      "currently x's value =  0\n",
      "x is still less than 10, adding 1 to x\n",
      "currently x's value =  1\n",
      "x is still less than 10, adding 1 to x\n",
      "currently x's value =  2\n",
      "x is still less than 10, adding 1 to x\n",
      "currently x's value =  3\n",
      "x is still less than 10, adding 1 to x\n",
      "currently x's value =  4\n",
      "x is still less than 10, adding 1 to x\n",
      "currently x's value =  5\n",
      "x is still less than 10, adding 1 to x\n",
      "currently x's value =  6\n",
      "x is still less than 10, adding 1 to x\n",
      "currently x's value =  7\n",
      "x is still less than 10, adding 1 to x\n",
      "currently x's value =  8\n",
      "x is still less than 10, adding 1 to x\n",
      "currently x's value =  9\n",
      "x is still less than 10, adding 1 to x\n",
      "All Done!!\n"
     ]
    }
   ],
   "source": [
    "x = 0\n",
    "while x < 10:\n",
    "    print(\"currently x's value = \",x)\n",
    "    print(\"x is still less than 10, adding 1 to x\")\n",
    "    x+=1\n",
    "else:\n",
    "    print('All Done!!')"
   ]
  },
  {
   "cell_type": "markdown",
   "metadata": {},
   "source": [
    "# Break, continue, pass"
   ]
  },
  {
   "cell_type": "code",
   "execution_count": 4,
   "metadata": {},
   "outputs": [
    {
     "name": "stdout",
     "output_type": "stream",
     "text": [
      "currently x's value =  0\n",
      "x is still less than 10, adding 1 to x\n",
      "continuing\n",
      "currently x's value =  1\n",
      "x is still less than 10, adding 1 to x\n",
      "continuing\n",
      "currently x's value =  2\n",
      "x is still less than 10, adding 1 to x\n",
      "Break at x==3\n"
     ]
    }
   ],
   "source": [
    "x = 0\n",
    "while x < 10:\n",
    "    print(\"currently x's value = \",x)\n",
    "    print(\"x is still less than 10, adding 1 to x\")\n",
    "    x+=1\n",
    "    if x==3:\n",
    "        print('Break at x==3')\n",
    "        break\n",
    "    else:\n",
    "        print(\"continuing\")\n",
    "        continue"
   ]
  },
  {
   "cell_type": "code",
   "execution_count": null,
   "metadata": {},
   "outputs": [],
   "source": []
  }
 ],
 "metadata": {
  "kernelspec": {
   "display_name": "Python 3",
   "language": "python",
   "name": "python3"
  },
  "language_info": {
   "codemirror_mode": {
    "name": "ipython",
    "version": 3
   },
   "file_extension": ".py",
   "mimetype": "text/x-python",
   "name": "python",
   "nbconvert_exporter": "python",
   "pygments_lexer": "ipython3",
   "version": "3.7.6"
  }
 },
 "nbformat": 4,
 "nbformat_minor": 4
}
