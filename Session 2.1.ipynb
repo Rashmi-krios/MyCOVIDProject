{
 "cells": [
  {
   "cell_type": "markdown",
   "metadata": {},
   "source": [
    "# if, else, elif Statements"
   ]
  },
  {
   "cell_type": "code",
   "execution_count": 3,
   "metadata": {},
   "outputs": [
    {
     "name": "stdout",
     "output_type": "stream",
     "text": [
      "USA\n"
     ]
    }
   ],
   "source": [
    "x = False\n",
    "\n",
    "if x:\n",
    "    print('INDIA')\n",
    "else:\n",
    "    print('USA')"
   ]
  },
  {
   "cell_type": "code",
   "execution_count": 4,
   "metadata": {},
   "outputs": [
    {
     "name": "stdout",
     "output_type": "stream",
     "text": [
      "Are you safe?\n"
     ]
    }
   ],
   "source": [
    "loc = 'cases less than 10,000'\n",
    "if loc == 'Symptoms':\n",
    "    print('Cough, Fever, Cold')\n",
    "elif loc == 'Cases':\n",
    "    print('More Than 1,00,000 Cases')\n",
    "else:\n",
    "    print('Are you safe?')"
   ]
  },
  {
   "cell_type": "code",
   "execution_count": 5,
   "metadata": {},
   "outputs": [
    {
     "name": "stdout",
     "output_type": "stream",
     "text": [
      "Welcome, what's your name?\n"
     ]
    }
   ],
   "source": [
    "person = 'Sameer'\n",
    "\n",
    "if person == 'Sammy':\n",
    "    print('Welcome Sammy!')\n",
    "else:\n",
    "    print(\"Welcome, what's your name?\")"
   ]
  },
  {
   "cell_type": "code",
   "execution_count": 8,
   "metadata": {},
   "outputs": [
    {
     "name": "stdout",
     "output_type": "stream",
     "text": [
      "Sheena!!. How are you?. It has been a long time.\n"
     ]
    }
   ],
   "source": [
    "person='Sheena Negi'\n",
    "if person=='Sheena Negi':\n",
    "    print('Sheena!!. How are you?. It has been a long time.')\n",
    "elif person==\"Sheena's Mom\":\n",
    "    print(\"Hello Mrs. Negi!. Can i talk to Shenna \")\n",
    "else:\n",
    "    print(\"Hello!. Is it you Sheena?\")"
   ]
  },
  {
   "cell_type": "code",
   "execution_count": null,
   "metadata": {},
   "outputs": [],
   "source": []
  }
 ],
 "metadata": {
  "kernelspec": {
   "display_name": "Python 3",
   "language": "python",
   "name": "python3"
  },
  "language_info": {
   "codemirror_mode": {
    "name": "ipython",
    "version": 3
   },
   "file_extension": ".py",
   "mimetype": "text/x-python",
   "name": "python",
   "nbconvert_exporter": "python",
   "pygments_lexer": "ipython3",
   "version": "3.7.6"
  }
 },
 "nbformat": 4,
 "nbformat_minor": 4
}
