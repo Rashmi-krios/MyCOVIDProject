{
 "cells": [
  {
   "cell_type": "markdown",
   "metadata": {},
   "source": [
    "#  Infected Fatality Rate & Crude Mortality Rate"
   ]
  },
  {
   "cell_type": "code",
   "execution_count": 18,
   "metadata": {},
   "outputs": [],
   "source": [
    "District=\"Mumbai\"\n",
    "Deaths=5732\n",
    "Infected=136596\n",
    "Recovered=67890"
   ]
  },
  {
   "cell_type": "code",
   "execution_count": 19,
   "metadata": {},
   "outputs": [],
   "source": [
    "def IFR(Deaths,infected):\n",
    "    ifr=(Deaths/Infected)*100\n",
    "    print(\"Infected Fatality Rate of  {1} is {0}\".format(ifr,District))"
   ]
  },
  {
   "cell_type": "code",
   "execution_count": 20,
   "metadata": {},
   "outputs": [],
   "source": [
    "def CMR(Infected,Deaths,Recovered):\n",
    "    total=Infected+Deaths+Recovered\n",
    "    cmr=(Deaths/total)*1000\n",
    "    print(\"Crude Mortality Rate of {1} is {0} \".format(cmr,District))"
   ]
  },
  {
   "cell_type": "code",
   "execution_count": 21,
   "metadata": {},
   "outputs": [
    {
     "name": "stdout",
     "output_type": "stream",
     "text": [
      "Infected Fatality Rate of  Mumbai is 4.196316143957364\n",
      "Crude Mortality Rate of Mumbai is 27.266932422532797 \n"
     ]
    }
   ],
   "source": [
    "IFR(5732,136596)\n",
    "CMR(136596,5732,67890)"
   ]
  },
  {
   "cell_type": "code",
   "execution_count": null,
   "metadata": {},
   "outputs": [],
   "source": []
  }
 ],
 "metadata": {
  "kernelspec": {
   "display_name": "Python 3",
   "language": "python",
   "name": "python3"
  },
  "language_info": {
   "codemirror_mode": {
    "name": "ipython",
    "version": 3
   },
   "file_extension": ".py",
   "mimetype": "text/x-python",
   "name": "python",
   "nbconvert_exporter": "python",
   "pygments_lexer": "ipython3",
   "version": "3.7.6"
  }
 },
 "nbformat": 4,
 "nbformat_minor": 4
}
