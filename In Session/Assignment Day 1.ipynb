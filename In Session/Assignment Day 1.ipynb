{
 "cells": [
  {
   "cell_type": "markdown",
   "metadata": {},
   "source": [
    "# Assignment"
   ]
  },
  {
   "cell_type": "code",
   "execution_count": 6,
   "metadata": {},
   "outputs": [
    {
     "name": "stdout",
     "output_type": "stream",
     "text": [
      "Infected District is  Gwalior\n",
      "total infected person =  1234\n",
      "infected person on 10 june 2020 =  12\n",
      "infected person on 11 june 2020 =  2\n",
      "infected person on 12 june 2020 =  13\n",
      "percentage increment of infected person =  8.333333333333332\n"
     ]
    }
   ],
   "source": [
    "district=\"Gwalior\"\n",
    "a=1234\n",
    "b=12\n",
    "c=2\n",
    "d=13\n",
    "print(\"Infected District is \",district)\n",
    "print(\"total infected person = \",a)\n",
    "print(\"infected person on 10 june 2020 = \",b)\n",
    "print(\"infected person on 11 june 2020 = \",c)\n",
    "print(\"infected person on 12 june 2020 = \",d)\n",
    "x=((d-b)/b)*100\n",
    "print(\"percentage increment of infected person = \",x)"
   ]
  },
  {
   "cell_type": "code",
   "execution_count": null,
   "metadata": {},
   "outputs": [],
   "source": []
  }
 ],
 "metadata": {
  "kernelspec": {
   "display_name": "Python 3",
   "language": "python",
   "name": "python3"
  },
  "language_info": {
   "codemirror_mode": {
    "name": "ipython",
    "version": 3
   },
   "file_extension": ".py",
   "mimetype": "text/x-python",
   "name": "python",
   "nbconvert_exporter": "python",
   "pygments_lexer": "ipython3",
   "version": "3.7.6"
  }
 },
 "nbformat": 4,
 "nbformat_minor": 4
}
