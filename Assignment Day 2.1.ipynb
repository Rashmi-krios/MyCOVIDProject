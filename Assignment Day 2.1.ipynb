{
 "cells": [
  {
   "cell_type": "markdown",
   "metadata": {},
   "source": [
    "# List1 and List2 - Names of 5 state, in order as placed"
   ]
  },
  {
   "cell_type": "code",
   "execution_count": 1,
   "metadata": {},
   "outputs": [
    {
     "name": "stdout",
     "output_type": "stream",
     "text": [
      "['A&N', 'AndhraPradesh', 'ArunchalPradesh', 'Assam', 'Bihar']\n"
     ]
    }
   ],
   "source": [
    "list1 = [\"A&N\",\"AndhraPradesh\",\"ArunchalPradesh\",\"Assam\",\"Bihar\"]\n",
    "print(list1)"
   ]
  },
  {
   "cell_type": "code",
   "execution_count": 2,
   "metadata": {},
   "outputs": [
    {
     "name": "stdout",
     "output_type": "stream",
     "text": [
      "A&N\n",
      "AndhraPradesh\n",
      "ArunchalPradesh\n",
      "Assam\n",
      "Bihar\n"
     ]
    }
   ],
   "source": [
    "for state in list1:\n",
    "    print(state)"
   ]
  },
  {
   "cell_type": "code",
   "execution_count": 3,
   "metadata": {},
   "outputs": [
    {
     "data": {
      "text/plain": [
       "{'A&N': 109,\n",
       " 'AndhraPradesh': 16097,\n",
       " 'ArunchalPradesh': 195,\n",
       " 'Assam': 9013,\n",
       " 'Bihar': 10471}"
      ]
     },
     "execution_count": 3,
     "metadata": {},
     "output_type": "execute_result"
    }
   ],
   "source": [
    "list2=[109,16097,195,9013,10471] # infected numbers of people in the states of 'list1'\n",
    "dict(zip(list1,list2))"
   ]
  },
  {
   "cell_type": "markdown",
   "metadata": {},
   "source": [
    "# tuples"
   ]
  },
  {
   "cell_type": "code",
   "execution_count": 5,
   "metadata": {},
   "outputs": [
    {
     "data": {
      "text/plain": [
       "{'A&N': 51,\n",
       " 'AndhraPradesh': 7313,\n",
       " 'ArunchalPradesh': 66,\n",
       " 'Assam': 6106,\n",
       " 'Bihar': 8020}"
      ]
     },
     "execution_count": 5,
     "metadata": {},
     "output_type": "execute_result"
    }
   ],
   "source": [
    "#number of infected people that has been recovered with their respective states\n",
    "t=(51,7313,66,6106,8020)\n",
    "dict(zip(list1,t))"
   ]
  },
  {
   "cell_type": "code",
   "execution_count": 8,
   "metadata": {},
   "outputs": [
    {
     "name": "stdout",
     "output_type": "stream",
     "text": [
      "{'A&N': 51, 'Andhra Pradesh': 7313, 'Arunachal Pradesh': 66, 'Assam': 6106, 'Bihar': 8020}\n"
     ]
    }
   ],
   "source": [
    "#number of infected people that has been recovered with their respective states\n",
    "tup=[(\"A&N\",51),(\"Andhra Pradesh\",7313),(\"Arunachal Pradesh\",66),(\"Assam\",6106),(\"Bihar\",8020)]\n",
    "print(dict(tup))"
   ]
  },
  {
   "cell_type": "code",
   "execution_count": 9,
   "metadata": {},
   "outputs": [
    {
     "name": "stdout",
     "output_type": "stream",
     "text": [
      "A&N  -  51\n",
      "Andhra Pradesh  -  7313\n",
      "Arunachal Pradesh  -  66\n",
      "Assam  -  6106\n",
      "Bihar  -  8020\n"
     ]
    }
   ],
   "source": [
    "for (t1,t2) in tup:\n",
    "    print(t1,\" - \",t2)"
   ]
  },
  {
   "cell_type": "markdown",
   "metadata": {},
   "source": [
    "# dictionary"
   ]
  },
  {
   "cell_type": "code",
   "execution_count": 10,
   "metadata": {},
   "outputs": [],
   "source": [
    "dict={\"A&N\":109,\"Andhra Pradesh\":16097,\"Arunachal Pradesh\":195,\"Assam\":9013,\"Bihar\":10471}"
   ]
  },
  {
   "cell_type": "code",
   "execution_count": 12,
   "metadata": {},
   "outputs": [
    {
     "data": {
      "text/plain": [
       "dict_keys(['A&N', 'Andhra Pradesh', 'Arunachal Pradesh', 'Assam', 'Bihar'])"
      ]
     },
     "execution_count": 12,
     "metadata": {},
     "output_type": "execute_result"
    }
   ],
   "source": [
    "dict.keys()"
   ]
  },
  {
   "cell_type": "code",
   "execution_count": 14,
   "metadata": {},
   "outputs": [
    {
     "data": {
      "text/plain": [
       "dict_values([109, 16097, 195, 9013, 10471])"
      ]
     },
     "execution_count": 14,
     "metadata": {},
     "output_type": "execute_result"
    }
   ],
   "source": [
    "dict.values()"
   ]
  },
  {
   "cell_type": "code",
   "execution_count": 15,
   "metadata": {},
   "outputs": [
    {
     "data": {
      "text/plain": [
       "dict_items([('A&N', 109), ('Andhra Pradesh', 16097), ('Arunachal Pradesh', 195), ('Assam', 9013), ('Bihar', 10471)])"
      ]
     },
     "execution_count": 15,
     "metadata": {},
     "output_type": "execute_result"
    }
   ],
   "source": [
    "dict.items()"
   ]
  },
  {
   "cell_type": "code",
   "execution_count": 16,
   "metadata": {},
   "outputs": [
    {
     "name": "stdout",
     "output_type": "stream",
     "text": [
      "A&N  -  109\n",
      "Andhra Pradesh  -  16097\n",
      "Arunachal Pradesh  -  195\n",
      "Assam  -  9013\n",
      "Bihar  -  10471\n"
     ]
    }
   ],
   "source": [
    "for k,v in dict.items():\n",
    "    print(k,\" - \",v)"
   ]
  },
  {
   "cell_type": "code",
   "execution_count": null,
   "metadata": {},
   "outputs": [],
   "source": []
  }
 ],
 "metadata": {
  "kernelspec": {
   "display_name": "Python 3",
   "language": "python",
   "name": "python3"
  },
  "language_info": {
   "codemirror_mode": {
    "name": "ipython",
    "version": 3
   },
   "file_extension": ".py",
   "mimetype": "text/x-python",
   "name": "python",
   "nbconvert_exporter": "python",
   "pygments_lexer": "ipython3",
   "version": "3.7.6"
  }
 },
 "nbformat": 4,
 "nbformat_minor": 4
}
