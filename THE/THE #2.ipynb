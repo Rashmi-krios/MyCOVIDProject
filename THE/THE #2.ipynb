{
 "cells": [
  {
   "cell_type": "markdown",
   "metadata": {},
   "source": [
    "Calculator for IMR & CMR"
   ]
  },
  {
   "cell_type": "code",
   "execution_count": 6,
   "metadata": {},
   "outputs": [],
   "source": [
    "import tkinter \n",
    "\n",
    "\n",
    "window=tkinter.Tk()\n",
    "window.geometry(\"350x550\")\n",
    "window.resizable(0,0)\n",
    "\n",
    "#window title\n",
    "window.title(\"Pandemic Analytics Engine\")\n",
    "\n",
    "infect = tkinter.IntVar(window)\n",
    "recover = tkinter.IntVar(window)\n",
    "decease= tkinter.IntVar(window)\n",
    "population = tkinter.IntVar(window)\n",
    "\n",
    "#labelling the window\n",
    "label=tkinter.Label(window,text=\"Pandemic Analyzer\",fg=\"purple3\",font=(\"arial rounded MT bold\",18))\n",
    "label.place(x=0,y=150)\n",
    "#grid(row=0,column=0,sticky=W)\n",
    "variable=tkinter.StringVar(window)\n",
    "\n",
    "#State drop-down button\n",
    "list1 = [\"A&N\",\"Andhra Pradesh\",\"Arunachal Pradesh\",\"Assam\",\"Bihar\",\"Chandigarh\",\"Chhatisgarh\",\"Dadra & Nagar Haveli\",\"Delhi\",\"Goa\",\"Gujarat\",\"Haryana\",\"Himachal Pradesh\",\"J&K\",\"Jharkhand\",\"Karnataka\",\"Kerala\",\"Ladakh\",\"Lakshdweep\",\"Maharashtra\",\"Manipur\",\"Meghalaya\",\"Mizoram\",\"Madhya Pradesh\",\"Nagaland\",\"Odisha\",\"Puducherry\",\"Punjab\",\"Rajasthan\",\"Sikkim\",\"Tamil Nadu\",\"Telengana\",\"Tripura\",\"Uttar Pradesh\",\"Uttarakhand\",\"West Bengal\"]\n",
    "\n",
    "\n",
    "variable.set(list1[0]) #default\n",
    "popupMenu=tkinter.OptionMenu(window,variable,*list1).grid(row = 2, column =1)\n",
    "\n",
    "tk=tkinter.Label(window,text=\"Select State\",fg=\"palegreen4\",font=(\"arial rounded MT bold\",18))\n",
    "tk.place(x=120,y=150)\n",
    "#.grid(row = 2, column = 1,sticky=W)\n"
   ]
  },
  {
   "cell_type": "code",
   "execution_count": 7,
   "metadata": {},
   "outputs": [],
   "source": [
    "def change_option():\n",
    "    print( variable.get() )\n",
    "    variable.trace('w',change_option) # to change the drop-down"
   ]
  },
  {
   "cell_type": "code",
   "execution_count": null,
   "metadata": {},
   "outputs": [],
   "source": [
    "window.mainloop()"
   ]
  },
  {
   "cell_type": "raw",
   "metadata": {},
   "source": [
    "be "
   ]
  }
 ],
 "metadata": {
  "kernelspec": {
   "display_name": "Python 3",
   "language": "python",
   "name": "python3"
  },
  "language_info": {
   "codemirror_mode": {
    "name": "ipython",
    "version": 3
   },
   "file_extension": ".py",
   "mimetype": "text/x-python",
   "name": "python",
   "nbconvert_exporter": "python",
   "pygments_lexer": "ipython3",
   "version": "3.7.6"
  }
 },
 "nbformat": 4,
 "nbformat_minor": 4
}
