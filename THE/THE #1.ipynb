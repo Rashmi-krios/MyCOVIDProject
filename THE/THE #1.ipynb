{
 "cells": [
  {
   "cell_type": "markdown",
   "metadata": {},
   "source": [
    "# List"
   ]
  },
  {
   "cell_type": "code",
   "execution_count": 12,
   "metadata": {},
   "outputs": [],
   "source": [
    "list1=[\"A&N\",\"Andhra Pradesh\",\"Arunachal Pradesh\",\"Assam\",\"Bihar\",\"Chandigarh\",\"Chhatisgarh\",\"Dadra & Nagar Haveli\",\"Delhi\",\"Goa\",\"Gujarat\",\"Haryana\",\"Himachal Pradesh\",\"J&K\",\"Jharkhand\",\"Karnataka\",\"Kerala\",\"Ladakh\",\"Lakshdweep\",\"Maharashtra\",\"Manipur\",\"Meghalaya\",\"Mizoram\",\"Madhya Pradesh\",\"Nagaland\",\"Odisha\",\"Puducherry\",\"Punjab\",\"Rajasthan\",\"Sikkim\",\"Tamil Nadu\",\"Telengana\",\"Tripura\",\"Uttar Pradesh\",\"Uttarakhand\",\"West Bengal\"]"
   ]
  },
  {
   "cell_type": "code",
   "execution_count": 22,
   "metadata": {},
   "outputs": [
    {
     "name": "stdout",
     "output_type": "stream",
     "text": [
      "List of all states and UTs\n",
      "A&N\n",
      "Andhra Pradesh\n",
      "Arunachal Pradesh\n",
      "Assam\n",
      "Bihar\n",
      "Chandigarh\n",
      "Chhatisgarh\n",
      "Dadra & Nagar Haveli\n",
      "Delhi\n",
      "Goa\n",
      "Gujarat\n",
      "Haryana\n",
      "Himachal Pradesh\n",
      "J&K\n",
      "Jharkhand\n",
      "Karnataka\n",
      "Kerala\n",
      "Ladakh\n",
      "Lakshdweep\n",
      "Maharashtra\n",
      "Manipur\n",
      "Meghalaya\n",
      "Mizoram\n",
      "Madhya Pradesh\n",
      "Nagaland\n",
      "Odisha\n",
      "Puducherry\n",
      "Punjab\n",
      "Rajasthan\n",
      "Sikkim\n",
      "Tamil Nadu\n",
      "Telengana\n",
      "Tripura\n",
      "Uttar Pradesh\n",
      "Uttarakhand\n",
      "West Bengal\n"
     ]
    }
   ],
   "source": [
    "print(\"List of all states and UTs\")\n",
    "for state in list1:\n",
    "    print(state)"
   ]
  },
  {
   "cell_type": "code",
   "execution_count": 23,
   "metadata": {},
   "outputs": [
    {
     "name": "stdout",
     "output_type": "stream",
     "text": [
      "State/UT-wise Infected Cases of COVID-19\n",
      "A&N - 116\n",
      "Andhra Pradesh - 16934\n",
      "Arunachal Pradesh - 252\n",
      "Assam - 9673\n",
      "Bihar - 10954\n",
      "Chandigarh - 457\n",
      "Chhatisgarh - 3065\n",
      "Dadra & Nagar Haveli - 257\n",
      "Delhi - 94695\n",
      "Goa - 1482\n",
      "Gujarat - 34600\n",
      "Haryana - 16003\n",
      "Himachal Pradesh - 1033\n",
      "J&K - 8019\n",
      "Jharkhand - 2695\n",
      "Karnataka - 19710\n",
      "Kerala - 4964\n",
      "Ladakh - 1001\n",
      "Lakshdweep - 0\n",
      "Maharashtra - 192990\n",
      "Manipur - 1316\n",
      "Meghalaya - 62\n",
      "Mizoram - 162\n",
      "Madhya Pradesh - 14297\n",
      "Nagaland - 539\n",
      "Odisha - 8106\n",
      "Puducherry - 802\n",
      "Punjab - 5937\n",
      "Rajasthan - 19052\n",
      "Sikkim - 102\n",
      "Tamil Nadu - 102721\n",
      "Telengana - 20462\n",
      "Tripura - 1525\n",
      "Uttar Pradesh - 25797\n",
      "Uttarakhand - 3048\n",
      "West Bengal - 20488\n"
     ]
    }
   ],
   "source": [
    "#total cases\n",
    "list2=[116,16934,252,9673,10954,457,3065,257,94695,1482,34600,16003,1033,8019,2695,19710,4964,1001,0,192990,1316,62,162,14297,539,8106,802,5937,19052,102,102721,20462,1525,25797,3048,20488]\n",
    "print(\"State/UT-wise Infected Cases of COVID-19\")\n",
    "for i in range(len(list1)):\n",
    "    print(list1[i]+\" - \"+str(list2[i]))"
   ]
  },
  {
   "cell_type": "code",
   "execution_count": 15,
   "metadata": {},
   "outputs": [
    {
     "name": "stdout",
     "output_type": "stream",
     "text": [
      "State/UT-wise Infected cases of COVID-19\n"
     ]
    },
    {
     "data": {
      "text/plain": [
       "{'A&N': 116,\n",
       " 'Andhra Pradesh': 16934,\n",
       " 'Arunachal Pradesh': 252,\n",
       " 'Assam': 9673,\n",
       " 'Bihar': 10954,\n",
       " 'Chandigarh': 457,\n",
       " 'Chhatisgarh': 3065,\n",
       " 'Dadra & Nagar Haveli': 257,\n",
       " 'Delhi': 94695,\n",
       " 'Goa': 1482,\n",
       " 'Gujarat': 34600,\n",
       " 'Haryana': 16003,\n",
       " 'Himachal Pradesh': 1033,\n",
       " 'J&K': 8019,\n",
       " 'Jharkhand': 2695,\n",
       " 'Karnataka': 19710,\n",
       " 'Kerala': 4964,\n",
       " 'Ladakh': 1001,\n",
       " 'Lakshdweep': 0,\n",
       " 'Maharashtra': 192990,\n",
       " 'Manipur': 1316,\n",
       " 'Meghalaya': 62,\n",
       " 'Mizoram': 162,\n",
       " 'Madhya Pradesh': 14297,\n",
       " 'Nagaland': 539,\n",
       " 'Odisha': 8106,\n",
       " 'Puducherry': 802,\n",
       " 'Punjab': 5937,\n",
       " 'Rajasthan': 19052,\n",
       " 'Sikkim': 102,\n",
       " 'Tamil Nadu': 102721,\n",
       " 'Telengana': 20462,\n",
       " 'Tripura': 1525,\n",
       " 'Uttar Pradesh': 25797,\n",
       " 'Uttarakhand': 3048,\n",
       " 'West Bengal': 20488}"
      ]
     },
     "execution_count": 15,
     "metadata": {},
     "output_type": "execute_result"
    }
   ],
   "source": [
    "print(\"State/UT-wise Infected cases of COVID-19\")\n",
    "dict(zip(list1,list2))"
   ]
  },
  {
   "cell_type": "markdown",
   "metadata": {},
   "source": [
    "# Tuples"
   ]
  },
  {
   "cell_type": "code",
   "execution_count": 17,
   "metadata": {},
   "outputs": [
    {
     "name": "stdout",
     "output_type": "stream",
     "text": [
      "State/Ut-wise Total recovered Cases of COVID-19\n"
     ]
    },
    {
     "data": {
      "text/plain": [
       "{'A&N': 54,\n",
       " 'Andhra Pradesh': 7632,\n",
       " 'Arunachal Pradesh': 75,\n",
       " 'Assam': 6349,\n",
       " 'Bihar': 8214,\n",
       " 'Chandigarh': 393,\n",
       " 'Chhatisgarh': 2437,\n",
       " 'Dadra & Nagar Haveli': 96,\n",
       " 'Delhi': 65624,\n",
       " 'Goa': 734,\n",
       " 'Gujarat': 24933,\n",
       " 'Haryana': 11691,\n",
       " 'Himachal Pradesh': 667,\n",
       " 'J&K': 5075,\n",
       " 'Jharkhand': 2001,\n",
       " 'Karnataka': 8805,\n",
       " 'Kerala': 2841,\n",
       " 'Ladakh': 777,\n",
       " 'Lakshdweep': 0,\n",
       " 'Maharashtra': 104687,\n",
       " 'Manipur': 639,\n",
       " 'Meghalaya': 43,\n",
       " 'Mizoram': 126,\n",
       " 'Madhya Pradesh': 11049,\n",
       " 'Nagaland': 228,\n",
       " 'Odisha': 5705,\n",
       " 'Puducherry': 331,\n",
       " 'Punjab': 4266,\n",
       " 'Rajasthan': 15281,\n",
       " 'Sikkim': 53,\n",
       " 'Tamil Nadu': 58378,\n",
       " 'Telengana': 10195,\n",
       " 'Tripura': 1199,\n",
       " 'Uttar Pradesh': 175597,\n",
       " 'Uttarakhand': 2481,\n",
       " 'West Bengal': 13571}"
      ]
     },
     "execution_count": 17,
     "metadata": {},
     "output_type": "execute_result"
    }
   ],
   "source": [
    "# recovered cases\n",
    "t=(54,7632,75,6349,8214,393,2437,96,65624,734,24933,11691,667,5075,2001,8805,2841,777,0,104687,639,43,126,11049,228,5705,331,4266,15281,53,58378,10195,1199,175597,2481,13571)\n",
    "print(\"State/Ut-wise Total recovered Cases of COVID-19\")\n",
    "dict(zip(list1,t))"
   ]
  },
  {
   "cell_type": "code",
   "execution_count": 18,
   "metadata": {},
   "outputs": [],
   "source": [
    "tup=[('A&N', 54),('Andhra Pradesh', 7632),('Arunachal Pradesh', 75),('Assam', 6349),('Bihar', 8214),('Chandigarh', 393),('Chhatisgarh', 2437),('Dadra & Nagar Haveli', 96),('Delhi', 65624),('Goa', 734),('Gujarat', 24933),('Haryana', 11691),('Himachal Pradesh', 667),('J&K', 5075),('Jharkhand', 2001),('Karnataka', 8805),('Kerala', 2841),('Ladakh', 777),('Lakshdweep', 0),('Maharashtra', 104687),('Manipur', 639),('Meghalaya', 43),('Mizoram', 126),('Madhya Pradesh', 11049),('Nagaland', 228),('Odisha', 5705),('Puducherry', 331),('Punjab', 4266),('Rajasthan',15281),('Sikkim', 53),('Tamil Nadu', 58378),( 'Telengana', 10195),( 'Tripura', 1199),(\n",
    " 'Uttar Pradesh',175597),('Uttarakhand', 2481),('West Bengal',13571)]"
   ]
  },
  {
   "cell_type": "code",
   "execution_count": 19,
   "metadata": {},
   "outputs": [
    {
     "name": "stdout",
     "output_type": "stream",
     "text": [
      "State/UT-wise Total recovered cases of COVID-19\n",
      "A&N  -  54\n",
      "Andhra Pradesh  -  7632\n",
      "Arunachal Pradesh  -  75\n",
      "Assam  -  6349\n",
      "Bihar  -  8214\n",
      "Chandigarh  -  393\n",
      "Chhatisgarh  -  2437\n",
      "Dadra & Nagar Haveli  -  96\n",
      "Delhi  -  65624\n",
      "Goa  -  734\n",
      "Gujarat  -  24933\n",
      "Haryana  -  11691\n",
      "Himachal Pradesh  -  667\n",
      "J&K  -  5075\n",
      "Jharkhand  -  2001\n",
      "Karnataka  -  8805\n",
      "Kerala  -  2841\n",
      "Ladakh  -  777\n",
      "Lakshdweep  -  0\n",
      "Maharashtra  -  104687\n",
      "Manipur  -  639\n",
      "Meghalaya  -  43\n",
      "Mizoram  -  126\n",
      "Madhya Pradesh  -  11049\n",
      "Nagaland  -  228\n",
      "Odisha  -  5705\n",
      "Puducherry  -  331\n",
      "Punjab  -  4266\n",
      "Rajasthan  -  15281\n",
      "Sikkim  -  53\n",
      "Tamil Nadu  -  58378\n",
      "Telengana  -  10195\n",
      "Tripura  -  1199\n",
      "Uttar Pradesh  -  175597\n",
      "Uttarakhand  -  2481\n",
      "West Bengal  -  13571\n"
     ]
    }
   ],
   "source": [
    "print(\"State/UT-wise Total recovered cases of COVID-19\")\n",
    "for (t1,t2) in tup:\n",
    "    print(t1,\" - \",t2)"
   ]
  },
  {
   "cell_type": "markdown",
   "metadata": {},
   "source": [
    "# Dictionary"
   ]
  },
  {
   "cell_type": "code",
   "execution_count": 20,
   "metadata": {},
   "outputs": [],
   "source": [
    "dict={'A&N': 116,'Andhra Pradesh': 16934,'Arunachal Pradesh': 252,'Assam': 9673,'Bihar': 10954,'Chandigarh': 457,'Chhatisgarh': 3065,'Dadra & Nagar Haveli': 257,'Delhi': 94695,'Goa': 1482,'Gujarat': 34600,'Haryana': 16003,'Himachal Pradesh': 1033,'J&K': 8019,'Jharkhand': 2695,'Karnataka': 19710,'Kerala': 4964,'Ladakh': 1001,'Lakshdweep': 0,'Maharashtra': 192990,'Manipur': 1316,'Meghalaya': 62,'Mizoram': 162,'Madhya Pradesh': 14297,'Nagaland': 539,'Odisha': 8106,'Puducherry': 802,'Punjab': 5937,'Rajasthan': 19052,'Sikkim': 102,'Tamil Nadu': 102721,'Telengana': 20462,'Tripura': 1525,'Uttar Pradesh': 25797,'Uttarakhand': 3048, 'West Bengal': 20488}"
   ]
  },
  {
   "cell_type": "code",
   "execution_count": 21,
   "metadata": {},
   "outputs": [
    {
     "name": "stdout",
     "output_type": "stream",
     "text": [
      "State/UT-wise Total infected cases\n",
      "A&N  -  116\n",
      "Andhra Pradesh  -  16934\n",
      "Arunachal Pradesh  -  252\n",
      "Assam  -  9673\n",
      "Bihar  -  10954\n",
      "Chandigarh  -  457\n",
      "Chhatisgarh  -  3065\n",
      "Dadra & Nagar Haveli  -  257\n",
      "Delhi  -  94695\n",
      "Goa  -  1482\n",
      "Gujarat  -  34600\n",
      "Haryana  -  16003\n",
      "Himachal Pradesh  -  1033\n",
      "J&K  -  8019\n",
      "Jharkhand  -  2695\n",
      "Karnataka  -  19710\n",
      "Kerala  -  4964\n",
      "Ladakh  -  1001\n",
      "Lakshdweep  -  0\n",
      "Maharashtra  -  192990\n",
      "Manipur  -  1316\n",
      "Meghalaya  -  62\n",
      "Mizoram  -  162\n",
      "Madhya Pradesh  -  14297\n",
      "Nagaland  -  539\n",
      "Odisha  -  8106\n",
      "Puducherry  -  802\n",
      "Punjab  -  5937\n",
      "Rajasthan  -  19052\n",
      "Sikkim  -  102\n",
      "Tamil Nadu  -  102721\n",
      "Telengana  -  20462\n",
      "Tripura  -  1525\n",
      "Uttar Pradesh  -  25797\n",
      "Uttarakhand  -  3048\n",
      "West Bengal  -  20488\n"
     ]
    }
   ],
   "source": [
    "print(\"State/UT-wise Total infected cases\")\n",
    "for k,v in dict.items():\n",
    "    print(k,\" - \",v)"
   ]
  },
  {
   "cell_type": "code",
   "execution_count": null,
   "metadata": {},
   "outputs": [],
   "source": []
  }
 ],
 "metadata": {
  "kernelspec": {
   "display_name": "Python 3",
   "language": "python",
   "name": "python3"
  },
  "language_info": {
   "codemirror_mode": {
    "name": "ipython",
    "version": 3
   },
   "file_extension": ".py",
   "mimetype": "text/x-python",
   "name": "python",
   "nbconvert_exporter": "python",
   "pygments_lexer": "ipython3",
   "version": "3.7.6"
  }
 },
 "nbformat": 4,
 "nbformat_minor": 4
}
